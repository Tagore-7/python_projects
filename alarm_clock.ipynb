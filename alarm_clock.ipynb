{
  "nbformat": 4,
  "nbformat_minor": 0,
  "metadata": {
    "colab": {
      "provenance": [],
      "authorship_tag": "ABX9TyM3WW4gSsmaZiWWq5SkwMho",
      "include_colab_link": true
    },
    "kernelspec": {
      "name": "python3",
      "display_name": "Python 3"
    },
    "language_info": {
      "name": "python"
    }
  },
  "cells": [
    {
      "cell_type": "markdown",
      "metadata": {
        "id": "view-in-github",
        "colab_type": "text"
      },
      "source": [
        "<a href=\"https://colab.research.google.com/github/Tagore-7/python_projects/blob/main/alarm_clock.ipynb\" target=\"_parent\"><img src=\"https://colab.research.google.com/assets/colab-badge.svg\" alt=\"Open In Colab\"/></a>"
      ]
    },
    {
      "cell_type": "code",
      "source": [
        "!pip install playsound"
      ],
      "metadata": {
        "id": "GCzDARXyuR_J",
        "colab": {
          "base_uri": "https://localhost:8080/"
        },
        "outputId": "ee8f691a-aa40-45ae-d1f0-aae718eb02f4"
      },
      "execution_count": 1,
      "outputs": [
        {
          "output_type": "stream",
          "name": "stdout",
          "text": [
            "Collecting playsound\n",
            "  Downloading playsound-1.3.0.tar.gz (7.7 kB)\n",
            "  Preparing metadata (setup.py) ... \u001b[?25l\u001b[?25hdone\n",
            "Building wheels for collected packages: playsound\n",
            "  Building wheel for playsound (setup.py) ... \u001b[?25l\u001b[?25hdone\n",
            "  Created wheel for playsound: filename=playsound-1.3.0-py3-none-any.whl size=7020 sha256=e600b9597bc5f6c7e75971b90ac2fc0b94d8d383fd0bb33f2cb4cace3973e680\n",
            "  Stored in directory: /root/.cache/pip/wheels/90/89/ed/2d643f4226fc8c7c9156fc28abd8051e2d2c0de37ae51ac45c\n",
            "Successfully built playsound\n",
            "Installing collected packages: playsound\n",
            "Successfully installed playsound-1.3.0\n"
          ]
        }
      ]
    },
    {
      "cell_type": "code",
      "source": [
        "from playsound import playsound\n",
        "import time\n",
        "\n",
        "CLEAR = \"\\033[2J\"\n",
        "CLEAR_AND_RETURN = \"\\033[H\"\n",
        "\n",
        "\n",
        "def alarm(seconds):\n",
        "  time_elapsed = 0\n",
        "  print(CLEAR)\n",
        "  while time_elapsed < seconds:\n",
        "    time.sleep(1)\n",
        "    time_elapsed += 1\n",
        "\n",
        "    time_left = seconds - time_elapsed\n",
        "    minutes_left = time_left // 60\n",
        "    seconds_left = time_left % 60\n",
        "    print(f\"{CLEAR_AND_RETURN}{minutes_left:02d}:{seconds_left:02d}\")\n",
        "\n",
        "  playsound(\"temp.mp3\")\n",
        "\n",
        "minutes = int(input(\"How many minutes to wait: \"))\n",
        "seconds = int(input(\"How many seconds to wait: \"))\n",
        "total_seconds = seconds + minutes * 60\n",
        "alarm(10)"
      ],
      "metadata": {
        "id": "12e3pbajS5FT"
      },
      "execution_count": 6,
      "outputs": []
    },
    {
      "cell_type": "code",
      "source": [],
      "metadata": {
        "id": "7rvAGYs6Vk_u"
      },
      "execution_count": null,
      "outputs": []
    }
  ]
}