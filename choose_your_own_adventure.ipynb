{
  "nbformat": 4,
  "nbformat_minor": 0,
  "metadata": {
    "colab": {
      "provenance": [],
      "authorship_tag": "ABX9TyN9vWv4UePB7reskFeUvmd0",
      "include_colab_link": true
    },
    "kernelspec": {
      "name": "python3",
      "display_name": "Python 3"
    },
    "language_info": {
      "name": "python"
    }
  },
  "cells": [
    {
      "cell_type": "markdown",
      "metadata": {
        "id": "view-in-github",
        "colab_type": "text"
      },
      "source": [
        "<a href=\"https://colab.research.google.com/github/Tagore-7/python_projects/blob/main/choose_your_own_adventure.ipynb\" target=\"_parent\"><img src=\"https://colab.research.google.com/assets/colab-badge.svg\" alt=\"Open In Colab\"/></a>"
      ]
    },
    {
      "cell_type": "code",
      "source": [
        "user_name = input(\"Enter your name: \")\n",
        "print(f\"welcome {user_name} to this adventure\")\n",
        "answer = input(\"you are on a road. Two ways go left or right?\").lower()\n",
        "if answer == 'left':\n",
        "  answer = input(\"river is there swim or walk around. choices swim or walk\").lower()\n",
        "  if answer == 'walk':\n",
        "    print(\"you walked around killed by tiger\")\n",
        "  elif answer == 'swim':\n",
        "    print(\"you died because gator killed you\")\n",
        "  else:\n",
        "    print(\"not a valid option. try again\")\n",
        "    quit()\n",
        "elif answer == 'right':\n",
        "  answer = input(\" you come to bridge. do you want to cross it? cross or back\")\n",
        "  if answer == 'back':\n",
        "    print('timer over died')\n",
        "  elif answer == 'cross':\n",
        "    answer = int(input(\"meet ginni you have three wishes 1. release ginni 2. take me to castle 3. meet the queen enter a number: \"))\n",
        "    if answer == 1:\n",
        "      print(\"thank you for good human being you won\")\n",
        "    elif answer == 2:\n",
        "        print(\"you are killed by king\")\n",
        "    else:\n",
        "      print(\"queen rejected you and you died\")\n",
        "  else:\n",
        "    print(\"not a valid option. try again\")\n",
        "    quit()\n",
        "else:\n",
        "  print(\"not a valid option. try again\")\n",
        "  quit()"
      ],
      "metadata": {
        "id": "wVCBIwqTa50W",
        "colab": {
          "base_uri": "https://localhost:8080/"
        },
        "outputId": "31e42d49-6f74-436b-c292-5b83481133e6"
      },
      "execution_count": 3,
      "outputs": [
        {
          "output_type": "stream",
          "name": "stdout",
          "text": [
            "Enter your name: tagore\n",
            "welcome tagore to this adventure\n",
            "you are on a road. Two ways go left or right?right\n",
            " you come to bridge. do you want to cross it? cross or backcross\n",
            "meet ginni you have three wishes 1. release ginni 2. take me to castle 3. meet the queen enter a number1\n",
            "thank you for good human being you won\n"
          ]
        }
      ]
    },
    {
      "cell_type": "code",
      "source": [],
      "metadata": {
        "id": "GCzDARXyuR_J"
      },
      "execution_count": null,
      "outputs": []
    }
  ]
}