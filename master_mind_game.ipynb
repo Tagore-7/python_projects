{
  "nbformat": 4,
  "nbformat_minor": 0,
  "metadata": {
    "colab": {
      "provenance": [],
      "authorship_tag": "ABX9TyMceQKEVfUME90IGT2kIvLM",
      "include_colab_link": true
    },
    "kernelspec": {
      "name": "python3",
      "display_name": "Python 3"
    },
    "language_info": {
      "name": "python"
    }
  },
  "cells": [
    {
      "cell_type": "markdown",
      "metadata": {
        "id": "view-in-github",
        "colab_type": "text"
      },
      "source": [
        "<a href=\"https://colab.research.google.com/github/Tagore-7/python_projects/blob/main/master_mind_game.ipynb\" target=\"_parent\"><img src=\"https://colab.research.google.com/assets/colab-badge.svg\" alt=\"Open In Colab\"/></a>"
      ]
    },
    {
      "cell_type": "code",
      "source": [
        "import random\n",
        "\n",
        "COLORS = ['R', 'G','B','Y','W','O']\n",
        "TRIES = 10\n",
        "CODE_LENGTH = 4\n",
        "\n",
        "def generate_code():\n",
        "  code = []\n",
        "\n",
        "  for _ in range(CODE_LENGTH):\n",
        "    color = random.choice(COLORS)\n",
        "    code.append(color)\n",
        "  return code\n",
        "\n",
        "def guess_code():\n",
        "  while True:\n",
        "    guess = input(\"Guess: \").upper().split(\" \")\n",
        "\n",
        "    if len(guess) != CODE_LENGTH:\n",
        "      print(f\"You must guess {CODE_LENGTH} colors\")\n",
        "      continue\n",
        "\n",
        "    for color in guess:\n",
        "      if color not in COLORS:\n",
        "        print(f\"Invalid color: {color}. Try again\")\n",
        "        break\n",
        "    else:\n",
        "      break\n",
        "  return guess\n",
        "\n",
        "def check_code(guess, real_code):\n",
        "  color_counts = {}\n",
        "  correct_pos = 0\n",
        "  incorrect_pos = 0\n",
        "\n",
        "  for color in real_code:\n",
        "    if color not in color_counts:\n",
        "      color_counts[color] = 0\n",
        "    color_counts[color] += 1\n",
        "\n",
        "  for guess_color, real_color in zip(guess, real_code):\n",
        "    if guess_color == real_color:\n",
        "      correct_pos += 1\n",
        "      color_counts[guess_color] -= 1\n",
        "\n",
        "  for guess_color, real_color in zip(guess, real_code):\n",
        "    if guess_color != real_color and guess_color in color_counts and color_counts[guess_color] > 0:\n",
        "      incorrect_pos += 1\n",
        "      color_counts[guess_color] -= 1\n",
        "\n",
        "  return correct_pos, incorrect_pos\n",
        "\n",
        "def game():\n",
        "  code = generate_code()\n",
        "  for attempts in range(1, TRIES + 1):\n",
        "    guess = guess_code()\n",
        "    correct_pos , incorrect_pos = check_code(guess, code)\n",
        "\n",
        "    if correct_pos == CODE_LENGTH:\n",
        "      print(f\"You guessed the code in {attempts} tries!\")\n",
        "      break\n",
        "\n",
        "    print(f\"Correct Positions: {correct_pos} | Incorrect Positions: {incorrect_pos}\")\n",
        "\n",
        "  else:\n",
        "    print(\"You ran out of tries, the code was:\", *code)\n",
        "\n",
        "game()\n"
      ],
      "metadata": {
        "id": "4vzc6hXkHXPn",
        "colab": {
          "base_uri": "https://localhost:8080/"
        },
        "outputId": "a15311fa-f372-4b78-bdcb-96c96117994b"
      },
      "execution_count": 2,
      "outputs": [
        {
          "output_type": "stream",
          "name": "stdout",
          "text": [
            "Guess: g g g g\n",
            "Correct Positions: 1 | Incorrect Positions: 0\n",
            "Guess: r r r r\n",
            "Correct Positions: 2 | Incorrect Positions: 0\n",
            "Guess: r r g y\n",
            "Correct Positions: 2 | Incorrect Positions: 1\n",
            "Guess: r r w g\n",
            "Correct Positions: 1 | Incorrect Positions: 2\n",
            "Guess: r r g w\n",
            "Correct Positions: 2 | Incorrect Positions: 1\n",
            "Guess: o r g r\n",
            "Correct Positions: 2 | Incorrect Positions: 1\n",
            "Guess: r r g o \n",
            "You must guess 4 colors\n",
            "Guess: r  r g o\n",
            "You must guess 4 colors\n",
            "Guess: r r g y\n",
            "Correct Positions: 2 | Incorrect Positions: 1\n",
            "Guess: g r r y\n",
            "Correct Positions: 0 | Incorrect Positions: 3\n",
            "Guess: r r r g\n",
            "Correct Positions: 1 | Incorrect Positions: 2\n",
            "Guess: r r g r\n",
            "Correct Positions: 3 | Incorrect Positions: 0\n",
            "You ran out of tries, the code was: R B G R\n"
          ]
        }
      ]
    },
    {
      "cell_type": "code",
      "source": [],
      "metadata": {
        "id": "LzTpXASjYo5Q"
      },
      "execution_count": null,
      "outputs": []
    },
    {
      "cell_type": "code",
      "source": [],
      "metadata": {
        "id": "fclKm635HXNq"
      },
      "execution_count": null,
      "outputs": []
    },
    {
      "cell_type": "code",
      "source": [],
      "metadata": {
        "id": "Qg9PpIwiHXLE"
      },
      "execution_count": null,
      "outputs": []
    },
    {
      "cell_type": "code",
      "source": [],
      "metadata": {
        "id": "NS0JqMblHXIm"
      },
      "execution_count": null,
      "outputs": []
    },
    {
      "cell_type": "code",
      "source": [],
      "metadata": {
        "id": "J_RkkfNQHXF4"
      },
      "execution_count": null,
      "outputs": []
    },
    {
      "cell_type": "code",
      "source": [],
      "metadata": {
        "id": "1_8T-wWI8NDW"
      },
      "execution_count": null,
      "outputs": []
    },
    {
      "cell_type": "code",
      "source": [],
      "metadata": {
        "id": "p7FLQ5X68NAE"
      },
      "execution_count": null,
      "outputs": []
    },
    {
      "cell_type": "code",
      "source": [],
      "metadata": {
        "id": "VjV7psVd8M9S"
      },
      "execution_count": null,
      "outputs": []
    },
    {
      "cell_type": "code",
      "source": [],
      "metadata": {
        "id": "3MfBaQR38M6a"
      },
      "execution_count": null,
      "outputs": []
    },
    {
      "cell_type": "code",
      "source": [],
      "metadata": {
        "id": "TmPS5xQk8M3t"
      },
      "execution_count": null,
      "outputs": []
    },
    {
      "cell_type": "code",
      "source": [],
      "metadata": {
        "id": "C2fgq1tO8M0M"
      },
      "execution_count": null,
      "outputs": []
    }
  ]
}