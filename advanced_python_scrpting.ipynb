{
  "nbformat": 4,
  "nbformat_minor": 0,
  "metadata": {
    "colab": {
      "provenance": [],
      "authorship_tag": "ABX9TyOQf9HeSlrltn1TKYzIo8Q2",
      "include_colab_link": true
    },
    "kernelspec": {
      "name": "python3",
      "display_name": "Python 3"
    },
    "language_info": {
      "name": "python"
    }
  },
  "cells": [
    {
      "cell_type": "markdown",
      "metadata": {
        "id": "view-in-github",
        "colab_type": "text"
      },
      "source": [
        "<a href=\"https://colab.research.google.com/github/Tagore-7/python_projects/blob/main/advanced_python_scrpting.ipynb\" target=\"_parent\"><img src=\"https://colab.research.google.com/assets/colab-badge.svg\" alt=\"Open In Colab\"/></a>"
      ]
    },
    {
      "cell_type": "code",
      "source": [
        "### get_game_data.py\n",
        "\n",
        "import os\n",
        "import json\n",
        "import shutil\n",
        "from subprocess import PIPE, run\n",
        "import sys\n",
        "\n",
        "\n",
        "GAME_DIR_PATTERM = \"game\"\n",
        "GAME_CODE_EXTENSION = \".go\"\n",
        "GAME_COMPILE_COMMAND = [\"go\", \"build\"]\n",
        "\n",
        "def find_all_game_paths(source):\n",
        "  game_path = []\n",
        "\n",
        "  for root, dirs, files in os.walk(source):\n",
        "    for directory in dirs:\n",
        "      if GAME_DIR_PATTERM in dirs:\n",
        "        path = os.path.join(source, directory)\n",
        "        game_paths.append(path)\n",
        "    break\n",
        "\n",
        "def get_name_from_path(paths, to_strip):\n",
        "  new_names = []\n",
        "  for path in paths:\n",
        "    _, dir_name = os.path.split(path)\n",
        "    new_dir_name = dir_name.replace(to_strip,\"\")\n",
        "    new_names.append(new_dir_name)\n",
        "\n",
        "  return new_names\n",
        "\n",
        "\n",
        "def create_dir(path):\n",
        "  if not os.path.exists(path):\n",
        "    os.mkdir(path)\n",
        "\n",
        "def copy_and_overwrite(source, dest):\n",
        "  if os.path.exists(dest):\n",
        "    shutil.rmtree(dest)\n",
        "  shutil.copytree(source, dest)\n",
        "\n",
        "\n",
        "def make_json_metadata_file(path, game_dirs):\n",
        "  data = {\n",
        "      \"gameNames\" : game_dirs,\n",
        "      \"numberOfGames\": len(game_dirs)\n",
        "  }\n",
        "  with open(path, \"w\") as f:\n",
        "    json.dump(data, f)\n",
        "\n",
        "\n",
        "def compile_game_code(path):\n",
        "  code_file_name = None\n",
        "  for root, dirs, files in os.walk(path):\n",
        "    for file in files:\n",
        "      if  file.endswith(GAME_CODE_EXTENSION):\n",
        "        code_file_name = file\n",
        "        break\n",
        "    break\n",
        "\n",
        "\n",
        "  if code_file_name is None:\n",
        "    return\n",
        "\n",
        "  command = GAME_COMPILE_COMMAND + [code_file_name]\n",
        "\n",
        "def run_command(command, path):\n",
        "  cwd = os.getcwd()\n",
        "  os.chdir(path)\n",
        "  result = run(command, stdout=PIPE, stdin=PIPE, universal_newlines=True)\n",
        "  print(result)\n",
        "\n",
        "  os.chdir(cwd)\n",
        "\n",
        "\n",
        "def main(source, target):\n",
        "  cwd = os.getcwd()\n",
        "  source_path = os.path.join(cwd, source)\n",
        "  target_path = os.path.join(cwd, target)\n",
        "\n",
        "  game_paths = find_all_game_paths(source_path)\n",
        "  # print(game_paths)\n",
        "  new_game_dirs = get_name_from_path(game_paths, \"_games\")\n",
        "  # print(new_game_dirs)\n",
        "\n",
        "  create_dir(target_path)\n",
        "\n",
        "  for src, dest in zip(game_paths, new_game_dirs):\n",
        "    dest_path = os.path.join(target_path, dest)\n",
        "    copy_and_overwrite(src, dest_path)\n",
        "    compile_game_code(dest_path)\n",
        "\n",
        "  json_path = os.path.join(target_path, \"metadata.json\")\n",
        "  make_json_metadata_file(json_path, new_game_dirs)\n",
        "\n",
        "\n",
        "\n",
        "if __name__ == '__main__':\n",
        "  args = sys.argv\n",
        "  # print(args)\n",
        "  if len(args) != 3:\n",
        "    raise Exception(\"You must pass a source and target director- only\")\n",
        "\n",
        "  source, target = args[1:]\n",
        "  main(source, target)\n",
        "\n",
        "\n"
      ],
      "metadata": {
        "id": "LzTpXASjYo5Q"
      },
      "execution_count": null,
      "outputs": []
    },
    {
      "cell_type": "code",
      "source": [],
      "metadata": {
        "id": "fclKm635HXNq"
      },
      "execution_count": null,
      "outputs": []
    },
    {
      "cell_type": "code",
      "source": [],
      "metadata": {
        "id": "Qg9PpIwiHXLE"
      },
      "execution_count": null,
      "outputs": []
    },
    {
      "cell_type": "code",
      "source": [],
      "metadata": {
        "id": "NS0JqMblHXIm"
      },
      "execution_count": null,
      "outputs": []
    },
    {
      "cell_type": "code",
      "source": [],
      "metadata": {
        "id": "J_RkkfNQHXF4"
      },
      "execution_count": null,
      "outputs": []
    },
    {
      "cell_type": "code",
      "source": [],
      "metadata": {
        "id": "1_8T-wWI8NDW"
      },
      "execution_count": null,
      "outputs": []
    },
    {
      "cell_type": "code",
      "source": [],
      "metadata": {
        "id": "p7FLQ5X68NAE"
      },
      "execution_count": null,
      "outputs": []
    },
    {
      "cell_type": "code",
      "source": [],
      "metadata": {
        "id": "VjV7psVd8M9S"
      },
      "execution_count": null,
      "outputs": []
    },
    {
      "cell_type": "code",
      "source": [],
      "metadata": {
        "id": "3MfBaQR38M6a"
      },
      "execution_count": null,
      "outputs": []
    },
    {
      "cell_type": "code",
      "source": [],
      "metadata": {
        "id": "TmPS5xQk8M3t"
      },
      "execution_count": null,
      "outputs": []
    },
    {
      "cell_type": "code",
      "source": [],
      "metadata": {
        "id": "C2fgq1tO8M0M"
      },
      "execution_count": null,
      "outputs": []
    }
  ]
}