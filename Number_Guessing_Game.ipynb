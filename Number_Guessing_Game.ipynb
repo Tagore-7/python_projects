{
  "nbformat": 4,
  "nbformat_minor": 0,
  "metadata": {
    "colab": {
      "provenance": [],
      "authorship_tag": "ABX9TyMCWFKL8hNCuoy6M7oCCqvj",
      "include_colab_link": true
    },
    "kernelspec": {
      "name": "python3",
      "display_name": "Python 3"
    },
    "language_info": {
      "name": "python"
    }
  },
  "cells": [
    {
      "cell_type": "markdown",
      "metadata": {
        "id": "view-in-github",
        "colab_type": "text"
      },
      "source": [
        "<a href=\"https://colab.research.google.com/github/Tagore-7/python_projects/blob/main/Number_Guessing_Game.ipynb\" target=\"_parent\"><img src=\"https://colab.research.google.com/assets/colab-badge.svg\" alt=\"Open In Colab\"/></a>"
      ]
    },
    {
      "cell_type": "code",
      "source": [
        "import random\n",
        "\n",
        "top_range = input(\"type a number:\")\n",
        "if top_range.isdigit():\n",
        "  top_range = int(top_range)\n",
        "\n",
        "  if top_range <=0:\n",
        "    print(\" type a number greater than 0\")\n",
        "    quit()\n",
        "  else:\n",
        "    print(\"type a digit\")\n",
        "    quit()\n",
        "\n",
        "Number = random.randint(0,top_range)\n",
        "guesses = 0\n",
        "\n",
        "while True:\n",
        "  guesses += 1\n",
        "  user_guess = input(\"make a guess:\")\n",
        "\n",
        "  if user_guess.isdigit():\n",
        "    user_guess = int(user_guess)\n",
        "  else:\n",
        "    print(\"type a digit\")\n",
        "    continue\n",
        "  if user_guess == Number:\n",
        "    print(\"you got it right!\")\n",
        "    break\n",
        "  elif user_guess > Number:\n",
        "      print(\"guess is above number\")\n",
        "  else:\n",
        "    print(\"guess is below number\")\n",
        "\n",
        "print(f\" you got it {guesses} guesses\")\n",
        "\n",
        "\n",
        "\n",
        "\n",
        "\n",
        "\n",
        "\n",
        "\n"
      ],
      "metadata": {
        "id": "YgX7UNiDNlkQ"
      },
      "execution_count": null,
      "outputs": []
    },
    {
      "cell_type": "code",
      "source": [],
      "metadata": {
        "id": "wVCBIwqTa50W"
      },
      "execution_count": null,
      "outputs": []
    }
  ]
}