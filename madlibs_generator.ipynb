{
  "nbformat": 4,
  "nbformat_minor": 0,
  "metadata": {
    "colab": {
      "provenance": [],
      "authorship_tag": "ABX9TyPNse3faElVE5mbfGcT/OOy",
      "include_colab_link": true
    },
    "kernelspec": {
      "name": "python3",
      "display_name": "Python 3"
    },
    "language_info": {
      "name": "python"
    }
  },
  "cells": [
    {
      "cell_type": "markdown",
      "metadata": {
        "id": "view-in-github",
        "colab_type": "text"
      },
      "source": [
        "<a href=\"https://colab.research.google.com/github/Tagore-7/python_projects/blob/main/madlibs_generator.ipynb\" target=\"_parent\"><img src=\"https://colab.research.google.com/assets/colab-badge.svg\" alt=\"Open In Colab\"/></a>"
      ]
    },
    {
      "cell_type": "code",
      "source": [
        "with open(\"story.txt\", \"r\") as f:\n",
        "  story = f.read()\n",
        "words = set()\n",
        "start_of_word = -1\n",
        "target_start  = \"<\"\n",
        "target_end = \">\"\n",
        "for i, char in enumerate(story):\n",
        "  if char == target_start:\n",
        "    start_of_word = i\n",
        "\n",
        "  if char == target_end and start_of_word != -1:\n",
        "    word = story[start_of_word: i +1]\n",
        "    words.add(word)\n",
        "    start_of_word = -1\n",
        "answers = {}\n",
        "\n",
        "for word in words:\n",
        "  answer = input(\"Enter a word for \" + word + \":\")\n",
        "  answers[word] = answer\n",
        "\n",
        "for word in words:\n",
        "  story = story.replace(word, answers[word])\n",
        "\n",
        "print(story)"
      ],
      "metadata": {
        "id": "wVCBIwqTa50W",
        "colab": {
          "base_uri": "https://localhost:8080/"
        },
        "outputId": "c82bb87d-6345-4d69-9045-2fe36a9b9f6b"
      },
      "execution_count": 6,
      "outputs": [
        {
          "output_type": "stream",
          "name": "stdout",
          "text": [
            "Enter a word for <adjective>:winsome\n",
            "Enter a word for <noun>:village\n",
            "Enter a word for <name>:carhub\n",
            "Once upon a time in a land far, far away, there lived a curious village named carhub. This winsome creature resided in a cozy village nestled amidst towering village in the heart of an enchanted village. One day, while exploring the depths of the mystical village, carhub stumbled upon a shimmering village hidden beneath a cascade of village.\n",
            "\n",
            "With trembling village, carhub cautiously approached the mysterious artifact and discovered it to be a magical village containing the power to grant three wishes. With a flutter of village, carhub eagerly made their first wish, asking for a pair of winsome wings to soar through the boundless skies.\n",
            "\n",
            "In a whirlwind of village, carhub found themselves transformed into a magnificent creature, their wings spanning wide, catching the gentle currents of air. With newfound freedom, they soared above the winsome landscape, marveling at the beauty of the world below.\n",
            "\n",
            "As carhub journeyed further, they encountered a mischievous village who challenged them to a contest of wit and village. With determination in their heart, carhub accepted the challenge, matching the clever tricks of their opponent with their own quick thinking and village. In the end, they emerged victorious, earning the admiration of both friend and foe alike.\n",
            "\n",
            "With their second wish, carhub wished for the restoration of the once-vibrant village that had fallen into a deep slumber. With a gentle touch of the magical village, the village burst into life, its petals unfolding in a riot of color and fragrance, bringing joy to all who beheld its beauty.\n",
            "\n",
            "For their final wish, carhub wished for harmony to reign throughout the land, uniting all creatures, great and small, in a bond of village and village. And so it was, as peace descended upon the kingdom, filling every corner with the sweet melody of laughter and the warmth of village.\n",
            "\n",
            "And thus, carhub continued their adventures, guided by the village of their heart and the magic of the village, forever cherishing the memories of their extraordinary journey.\n"
          ]
        }
      ]
    },
    {
      "cell_type": "code",
      "source": [
        "\n"
      ],
      "metadata": {
        "id": "-p4YbBAyTsOy"
      },
      "execution_count": null,
      "outputs": []
    },
    {
      "cell_type": "code",
      "source": [],
      "metadata": {
        "id": "GCzDARXyuR_J"
      },
      "execution_count": 1,
      "outputs": []
    }
  ]
}