{
  "nbformat": 4,
  "nbformat_minor": 0,
  "metadata": {
    "colab": {
      "provenance": [],
      "authorship_tag": "ABX9TyN37/rVRQeXsGXIFdMkobIk",
      "include_colab_link": true
    },
    "kernelspec": {
      "name": "python3",
      "display_name": "Python 3"
    },
    "language_info": {
      "name": "python"
    }
  },
  "cells": [
    {
      "cell_type": "markdown",
      "metadata": {
        "id": "view-in-github",
        "colab_type": "text"
      },
      "source": [
        "<a href=\"https://colab.research.google.com/github/Tagore-7/python_projects/blob/main/path_finder.ipynb\" target=\"_parent\"><img src=\"https://colab.research.google.com/assets/colab-badge.svg\" alt=\"Open In Colab\"/></a>"
      ]
    },
    {
      "cell_type": "code",
      "source": [
        "import curses\n",
        "from curses import wrapper\n",
        "import queue\n",
        "import time\n",
        "import random\n",
        "\n",
        "maze = [\n",
        "    [\"#\",\"#\",\"#\",\"#\",\"#\",\"#\",\"#\",\"#\",\"#\",\"#\",\"O\",\"#\",\"#\",\"#\"],\n",
        "    [\"#\",\" \",\" \",\" \",\" \",\" \",\" \",\" \",\" \",\" \",\" \",\" \",\" \",\"#\"],\n",
        "    [\"#\",\" \",\"#\",\"#\",\" \",\" \",\" \",\" \",\" \",\"#\",\" \",\"#\",\"#\",\"#\"],\n",
        "    [\"#\",\" \",\" \",\" \",\" \",\" \",\" \",\" \",\" \",\" \",\" \",\" \",\" \",\"#\"],\n",
        "    [\"#\",\" \",\"#\",\"#\",\" \",\" \",\" \",\" \",\" \",\"#\",\" \",\"#\",\"#\",\"#\"],\n",
        "    [\"#\",\" \",\" \",\" \",\" \",\" \",\" \",\" \",\" \",\" \",\" \",\" \",\" \",\"#\"],\n",
        "    [\"#\",\" \",\"#\",\"#\",\" \",\" \",\" \",\" \",\" \",\"#\",\" \",\"#\",\"#\",\"#\"],\n",
        "    [\"#\",\"#\",\"#\",\"#\",\"X\",\"#\",\"#\",\"#\",\"#\",\"#\",\"#\",\"#\",\"#\",\"#\"],\n",
        "]\n",
        "\n",
        "def print_maze(maze, stdscr, path=[]):\n",
        "  BLUE = curses.color_pair(1)\n",
        "  RED = curses.color_pair(2)\n",
        "\n",
        "  for i , row in enumerate(maze):\n",
        "    for j, value in enumerate(row):\n",
        "      stdscr.addstr(i, j, value, BLUE)\n",
        "\n",
        "\n",
        "def find_start(maze, start):\n",
        "  for i, row in enumerate(maze):\n",
        "    for j , value in enumerate(row):\n",
        "      if value == start:\n",
        "        return i, j\n",
        "\n",
        "\n",
        "\n",
        "def find_path(maze, stdscr):\n",
        "  start = \"O\"\n",
        "  end = \"X\"\n",
        "  start_pos = find_start(maze, start)\n",
        "\n",
        "  q = queue.Queue()\n",
        "  q.put((start_pos, [start_pos]))\n",
        "\n",
        "  visited = set()\n",
        "\n",
        "  while not q.empty():\n",
        "    current_pos, path = q.get()\n",
        "    row, col = current_pos\n",
        "\n",
        "    if maze[row][col] == end:\n",
        "      return path\n",
        "\n",
        "    neighbors = find_neighbors(maze, row, col)\n",
        "    for neighbor in neighbors:\n",
        "      if neighbor in visited:\n",
        "        continue\n",
        "\n",
        "      r, c = neighbor\n",
        "      if maze[r][c] == \"#\":\n",
        "        continue\n",
        "      new_path = path + [neighbor]\n",
        "      q.put((neighbor, new_path))\n",
        "\n",
        "def find_neighbors(maze, row, col):\n",
        "  neighbors = []\n",
        "\n",
        "  if row > 0:\n",
        "    neighbors.append((row -1 , col))\n",
        "  if row + 1 < len(maze):\n",
        "    neighbors.append((row + 1, col))\n",
        "  if col > 0:\n",
        "    neighbors.append((row, col - 1))\n",
        "  if col + 1 < len(maze[0]):\n",
        "    neighbors.append((row, col + 1))\n",
        "\n",
        "    return neighbors\n",
        "\n",
        "\n",
        "def main(stdscr):\n",
        "  curses.init_pair(1, curses.COLOR_BLUE, curses.COLOR_BLACK)\n",
        "  curses.init_pair(2, curses.COLOR_RED, curses.COLOR_BLACK)\n",
        "  blue_and_black = curses.color_pair(1)\n",
        "\n",
        "  stdscr.clear()\n",
        "  print(print_maze(maze, stdscr))\n",
        "  stdscr.refersh()\n",
        "  stdscr.getch()\n",
        "\n",
        "wrapper(main)"
      ],
      "metadata": {
        "id": "baSDjM5InFf0"
      },
      "execution_count": null,
      "outputs": []
    },
    {
      "cell_type": "code",
      "source": [],
      "metadata": {
        "id": "JpVa69hYHXbw"
      },
      "execution_count": null,
      "outputs": []
    },
    {
      "cell_type": "code",
      "source": [],
      "metadata": {
        "id": "j1EbBU-6HXYK"
      },
      "execution_count": null,
      "outputs": []
    },
    {
      "cell_type": "code",
      "source": [],
      "metadata": {
        "id": "OcEoUGsEHXWF"
      },
      "execution_count": null,
      "outputs": []
    },
    {
      "cell_type": "code",
      "source": [],
      "metadata": {
        "id": "1MVFt6QbHXSS"
      },
      "execution_count": null,
      "outputs": []
    },
    {
      "cell_type": "code",
      "source": [],
      "metadata": {
        "id": "4vzc6hXkHXPn"
      },
      "execution_count": null,
      "outputs": []
    },
    {
      "cell_type": "code",
      "source": [],
      "metadata": {
        "id": "fclKm635HXNq"
      },
      "execution_count": null,
      "outputs": []
    },
    {
      "cell_type": "code",
      "source": [],
      "metadata": {
        "id": "Qg9PpIwiHXLE"
      },
      "execution_count": null,
      "outputs": []
    },
    {
      "cell_type": "code",
      "source": [],
      "metadata": {
        "id": "NS0JqMblHXIm"
      },
      "execution_count": null,
      "outputs": []
    },
    {
      "cell_type": "code",
      "source": [],
      "metadata": {
        "id": "J_RkkfNQHXF4"
      },
      "execution_count": null,
      "outputs": []
    }
  ]
}