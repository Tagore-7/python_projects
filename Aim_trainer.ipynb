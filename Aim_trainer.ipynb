{
  "nbformat": 4,
  "nbformat_minor": 0,
  "metadata": {
    "colab": {
      "provenance": [],
      "authorship_tag": "ABX9TyOryc1sW8SbiFB+mr2fHFht",
      "include_colab_link": true
    },
    "kernelspec": {
      "name": "python3",
      "display_name": "Python 3"
    },
    "language_info": {
      "name": "python"
    }
  },
  "cells": [
    {
      "cell_type": "markdown",
      "metadata": {
        "id": "view-in-github",
        "colab_type": "text"
      },
      "source": [
        "<a href=\"https://colab.research.google.com/github/Tagore-7/python_projects/blob/main/Aim_trainer.ipynb\" target=\"_parent\"><img src=\"https://colab.research.google.com/assets/colab-badge.svg\" alt=\"Open In Colab\"/></a>"
      ]
    },
    {
      "cell_type": "code",
      "source": [
        "!pip install pygame\n",
        "import pygame\n",
        "pygame.init()\n",
        "import random\n",
        "import math\n",
        "import time\n",
        "\n",
        "WIDTH , HEIGHT = 800, 600\n",
        "WIN = pygame.display.set_mode((WIDTH, HEIGHT))\n",
        "pygame.display.set_caption(\"Aim Trainer\")\n",
        "\n",
        "TARGET_INCREMENT = 400\n",
        "TARGET_EVENT = pygame.USEREVENT\n",
        "TARGET_PADDING = 30\n",
        "LIVES = 3\n",
        "BG_COLOR = (0,25,40)\n",
        "TOP_BAR_HEIGHT = 50\n",
        "LABEL_FONT = pygame.font.SysFont(\"comicsans\", 24)\n",
        "\n",
        "\n",
        "\n",
        "\n",
        "\n",
        "class Target:\n",
        "  MAX_SIZE = 30\n",
        "  GROWTH_RATE = 0.2\n",
        "  COLOR = \"red\"\n",
        "  SECOND_COLOR = \"white\"\n",
        "\n",
        "  def __init__(self, x, y):\n",
        "    self.x = x\n",
        "    self.y = y\n",
        "    self.size = 0\n",
        "    self.grow = True\n",
        "\n",
        "  def update(self):\n",
        "    if self.size + self.GROWTH_RATE > self.MAX_SIZE:\n",
        "      self.grow = False\n",
        "    if self.grow:\n",
        "      self.size += self.GROWTH_RATE\n",
        "    else:\n",
        "      self.size -= self.GROWTH_RATE\n",
        "\n",
        "  def draw(self, win):\n",
        "    pygame.draw.circle(win, self.COLOR, (self.x, self.y), self.size)\n",
        "    pygame.draw.circle(win, self.SECOND_COLOR, (self.x, self.y), self.size * 0.8)\n",
        "    pygame.draw.circle(win, self.COLOR, (self.x, self.y), self.size * 0.6)\n",
        "    pygame.draw.circle(win, self.SECOND_COLOR, (self.x, self.y), self.size * 0.4)\n",
        "\n",
        "  def draw(win, targets):\n",
        "    win.fill(BG_COLOR)\n",
        "\n",
        "    for target in targets:\n",
        "      target.draw(win)\n",
        "\n",
        "    pygame.display.update()\n",
        "\n",
        "  def collids(self, x, y):\n",
        "    distance = math.sqrt((x - self.x)**2 + (y - self.y)**2)\n",
        "    return distance <= self.size\n",
        "\n",
        "def format_time(secs):\n",
        "  milli = math.floor(int(secs * 1000 % 1000) / 1000)\n",
        "  seconds = int(round(secs % 60),1)\n",
        "  minutes = int(secs // 60)\n",
        "  return f\"{minutes:02d}:{seconds:0.2d}.{milli}\"\n",
        "\n",
        "def draw_top_bar(win, elapsed_time, targets_pressed, misses):\n",
        "  pygame.draw.rect(win, \"grey\", (0, 0, WIDTH, TOP_BAR_HEIGHT ))\n",
        "  time_label = LABEL_FONT.render(f\"Time: {format_time(elapsed_time)}\", 1, \"black\")\n",
        "\n",
        "  speed = round(targets_pressed / elapsed_time, 1)\n",
        "  speed_label = LABEL_FONT.render(f\"Speed: {speed} t/s\", 1, \"black\")\n",
        "  hits_label = LABEL_FONT.render(f\"Hits: {targets_pressed}\", 1, \"black\")\n",
        "  lives_label = LABEL_FONT.render(f\"Lives: {LIVES - misses}\", 1, \"black\")\n",
        "\n",
        "  win.blit(time_label, (5,5))\n",
        "  win.blit(speed_label, (200, 5))\n",
        "  win.blit(hits_label, (450, 5))\n",
        "  win.blit(lives_label, (650, 5))\n",
        "\n",
        "\n",
        "def end_screen(win, elapsed_time, targets_pressed, clicks):\n",
        "  win.blit(BG_COLOR)\n",
        "  time_label = LABEL_FONT.render(f\"Time: {format_time(elapsed_time)}\", 1, \"black\")\n",
        "\n",
        "  speed = round(targets_pressed / elapsed_time, 1)\n",
        "  speed_label = LABEL_FONT.render(f\"Speed: {speed} t/s\", 1, \"black\")\n",
        "  hits_label = LABEL_FONT.render(f\"Hits: {targets_pressed}\", 1, \"black\")\n",
        "  accuracy = round(targets_pressed / clicks * 100, 1)\n",
        "  accuracy_label = LABEL_FONT.render(f\"Accuracy: {accuracy}%\", 1, \"black\")\n",
        "\n",
        "\n",
        "  win.blit(time_label, get_middle(time_label), (5,5))\n",
        "  win.blit(speed_label,get_middle(speed_label),  (200, 5))\n",
        "  win.blit(hits_label,get_middle(hits_label),  (450, 5))\n",
        "  win.blit(accuracy_label,get_middle(accuracy_label),  (650, 5))\n",
        "\n",
        "\n",
        "  pygame.display.update()\n",
        "\n",
        "  run = True\n",
        "  while run:\n",
        "    for event in pygame.event.get():\n",
        "      if event.type == pygame.QUIT or event.type = pygame.KEYDOWN:\n",
        "        quit()\n",
        "\n",
        "\n",
        "\n",
        "\n",
        "\n",
        "def get_middle(surface):\n",
        "  return WIDTH / 2 - surface.get_width() / 2\n",
        "\n",
        "\n",
        "\n",
        "def main():\n",
        "  run = True\n",
        "  targets = []\n",
        "  clock = pygame.time.Clock()\n",
        "\n",
        "  target_pressed = 0\n",
        "  clicks = 0\n",
        "  start_time = time.time()\n",
        "  misses = 0\n",
        "  elapsed_time = time.time() - start_time\n",
        "\n",
        "  pygame.time.set_timer(TARGET_EVENT, TARGET_INCREMENT)\n",
        "\n",
        "\n",
        "  while run:\n",
        "    clock.tick(60)\n",
        "    click = False\n",
        "    mouse_pos = pygame.mouse.get_pos()\n",
        "    for event in pygame.event.get():\n",
        "      if event.type == pygame.QUIT:\n",
        "        run = False\n",
        "        break\n",
        "\n",
        "      if event.type == TARGET_EVENT:\n",
        "        x = random.randint(TARGET_PADDING, WIDTH - TARGET_PADDING)\n",
        "        y = random.randint(TARGET_PADDING + TOP_BAR_HEIGHT , HEIGHT - TARGET_PADDING)\n",
        "        target = Target(x,y)\n",
        "        targets.append(target)\n",
        "\n",
        "      if event.type == pygame.MOUSEBUTTONDOWN:\n",
        "        click = True\n",
        "        clicks += 1\n",
        "\n",
        "      for target in targets:\n",
        "        target.update()\n",
        "\n",
        "        if target.size <= 0:\n",
        "          targets.remove(target)\n",
        "          misses += 1\n",
        "\n",
        "        if click and target.collids(*mouse_pos):\n",
        "          targets.remove(target)\n",
        "          target_pressed += 1\n",
        "\n",
        "\n",
        "        if target.collids()\n",
        "\n",
        "      if misses >= LIVES:\n",
        "        end_screen(WIN, elapsed_time, target_pressed, clicks)\n",
        "        run = False\n",
        "\n",
        "      draw(WIN, targets)\n",
        "      draw_top_bar(WIN, elapsed_time, targets_pressed, misses)\n",
        "      pygame.display.update()\n",
        "\n",
        "  pygame.quit()\n",
        "\n",
        "\n",
        "if __name__ == \"__main__\":\n",
        "  main()\n",
        "\n"
      ],
      "metadata": {
        "id": "4vzc6hXkHXPn"
      },
      "execution_count": null,
      "outputs": []
    },
    {
      "cell_type": "code",
      "source": [],
      "metadata": {
        "id": "LzTpXASjYo5Q"
      },
      "execution_count": null,
      "outputs": []
    },
    {
      "cell_type": "code",
      "source": [],
      "metadata": {
        "id": "fclKm635HXNq"
      },
      "execution_count": null,
      "outputs": []
    },
    {
      "cell_type": "code",
      "source": [],
      "metadata": {
        "id": "Qg9PpIwiHXLE"
      },
      "execution_count": null,
      "outputs": []
    },
    {
      "cell_type": "code",
      "source": [],
      "metadata": {
        "id": "NS0JqMblHXIm"
      },
      "execution_count": null,
      "outputs": []
    },
    {
      "cell_type": "code",
      "source": [],
      "metadata": {
        "id": "J_RkkfNQHXF4"
      },
      "execution_count": null,
      "outputs": []
    },
    {
      "cell_type": "code",
      "source": [],
      "metadata": {
        "id": "1_8T-wWI8NDW"
      },
      "execution_count": null,
      "outputs": []
    },
    {
      "cell_type": "code",
      "source": [],
      "metadata": {
        "id": "p7FLQ5X68NAE"
      },
      "execution_count": null,
      "outputs": []
    },
    {
      "cell_type": "code",
      "source": [],
      "metadata": {
        "id": "VjV7psVd8M9S"
      },
      "execution_count": null,
      "outputs": []
    },
    {
      "cell_type": "code",
      "source": [],
      "metadata": {
        "id": "3MfBaQR38M6a"
      },
      "execution_count": null,
      "outputs": []
    },
    {
      "cell_type": "code",
      "source": [],
      "metadata": {
        "id": "TmPS5xQk8M3t"
      },
      "execution_count": null,
      "outputs": []
    },
    {
      "cell_type": "code",
      "source": [],
      "metadata": {
        "id": "C2fgq1tO8M0M"
      },
      "execution_count": null,
      "outputs": []
    }
  ]
}