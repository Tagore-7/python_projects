{
  "nbformat": 4,
  "nbformat_minor": 0,
  "metadata": {
    "colab": {
      "provenance": [],
      "authorship_tag": "ABX9TyMnZzGTtPTOLe7gFSU4c6+5",
      "include_colab_link": true
    },
    "kernelspec": {
      "name": "python3",
      "display_name": "Python 3"
    },
    "language_info": {
      "name": "python"
    }
  },
  "cells": [
    {
      "cell_type": "markdown",
      "metadata": {
        "id": "view-in-github",
        "colab_type": "text"
      },
      "source": [
        "<a href=\"https://colab.research.google.com/github/Tagore-7/python_projects/blob/main/youtube_video_downloader.ipynb\" target=\"_parent\"><img src=\"https://colab.research.google.com/assets/colab-badge.svg\" alt=\"Open In Colab\"/></a>"
      ]
    },
    {
      "cell_type": "code",
      "source": [
        "from tkinter.constants import Y\n",
        "!pip install pytube\n",
        "from pytube import YouTube\n",
        "import tkinter as tk\n",
        "from tkinter import filedialog\n",
        "\n",
        "def download_video(url, save_path):\n",
        "  try:\n",
        "    yt = YouTube(url)\n",
        "    streams = yt.streams.filter(progressive=True, file_extension=\"mp4\")\n",
        "    highest_res_stream = streams.get_highest_resolution()\n",
        "    highest_res_stream.download(output_path = save_path)\n",
        "    print(\"Video downloaded successfully!\")\n",
        "  except Exception as e:\n",
        "    print(e)\n",
        "\n",
        "def open_file_dialog():\n",
        "  folder = filedialog.askdirectory()\n",
        "  if folder:\n",
        "    print(f\"selected folder: {folder}\")\n",
        "\n",
        "\n",
        "\n",
        "if __name__ == \"__main__\":\n",
        "  root = tk.Tk()\n",
        "  root.withdraw()\n",
        "\n",
        "  video_url = input(\"Please enter a youtube url: \")\n",
        "  save_dir = open_file_dialog()\n",
        "\n",
        "  if not save_dir:\n",
        "    print(\"Invalid save location.\")\n",
        "  else:\n",
        "    download_video(video_url, save_path=save_dir)\n",
        "\n"
      ],
      "metadata": {
        "id": "OcEoUGsEHXWF"
      },
      "execution_count": 7,
      "outputs": []
    },
    {
      "cell_type": "code",
      "source": [],
      "metadata": {
        "id": "1MVFt6QbHXSS"
      },
      "execution_count": null,
      "outputs": []
    },
    {
      "cell_type": "code",
      "source": [],
      "metadata": {
        "id": "4vzc6hXkHXPn"
      },
      "execution_count": null,
      "outputs": []
    },
    {
      "cell_type": "code",
      "source": [],
      "metadata": {
        "id": "fclKm635HXNq"
      },
      "execution_count": null,
      "outputs": []
    },
    {
      "cell_type": "code",
      "source": [],
      "metadata": {
        "id": "Qg9PpIwiHXLE"
      },
      "execution_count": null,
      "outputs": []
    },
    {
      "cell_type": "code",
      "source": [],
      "metadata": {
        "id": "NS0JqMblHXIm"
      },
      "execution_count": null,
      "outputs": []
    },
    {
      "cell_type": "code",
      "source": [],
      "metadata": {
        "id": "J_RkkfNQHXF4"
      },
      "execution_count": null,
      "outputs": []
    },
    {
      "cell_type": "code",
      "source": [],
      "metadata": {
        "id": "1_8T-wWI8NDW"
      },
      "execution_count": null,
      "outputs": []
    },
    {
      "cell_type": "code",
      "source": [],
      "metadata": {
        "id": "p7FLQ5X68NAE"
      },
      "execution_count": null,
      "outputs": []
    },
    {
      "cell_type": "code",
      "source": [],
      "metadata": {
        "id": "VjV7psVd8M9S"
      },
      "execution_count": null,
      "outputs": []
    },
    {
      "cell_type": "code",
      "source": [],
      "metadata": {
        "id": "3MfBaQR38M6a"
      },
      "execution_count": null,
      "outputs": []
    },
    {
      "cell_type": "code",
      "source": [],
      "metadata": {
        "id": "TmPS5xQk8M3t"
      },
      "execution_count": null,
      "outputs": []
    },
    {
      "cell_type": "code",
      "source": [],
      "metadata": {
        "id": "C2fgq1tO8M0M"
      },
      "execution_count": null,
      "outputs": []
    }
  ]
}