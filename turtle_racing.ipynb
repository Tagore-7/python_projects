{
  "nbformat": 4,
  "nbformat_minor": 0,
  "metadata": {
    "colab": {
      "provenance": [],
      "authorship_tag": "ABX9TyMUwqhBi6a7ZmXznC2rcqSR",
      "include_colab_link": true
    },
    "kernelspec": {
      "name": "python3",
      "display_name": "Python 3"
    },
    "language_info": {
      "name": "python"
    }
  },
  "cells": [
    {
      "cell_type": "markdown",
      "metadata": {
        "id": "view-in-github",
        "colab_type": "text"
      },
      "source": [
        "<a href=\"https://colab.research.google.com/github/Tagore-7/python_projects/blob/main/turtle_racing.ipynb\" target=\"_parent\"><img src=\"https://colab.research.google.com/assets/colab-badge.svg\" alt=\"Open In Colab\"/></a>"
      ]
    },
    {
      "cell_type": "code",
      "source": [
        "import turtle\n",
        "import time\n",
        "import random\n",
        "!export DISPLAY=:0\n",
        "\n",
        "WIDTH, HEIGHT = 500, 500\n",
        "COLORS = ['yellow','blue','black','white','pink']\n",
        "\n",
        "\n",
        "\n",
        "def get_number_of_racers():\n",
        "  racers =  0\n",
        "  while True:\n",
        "    racers = input(\"Enter the input number of racers from 2 to 5: \")\n",
        "    if racers.isdigit():\n",
        "      racers = int(racers)\n",
        "      if 2 <= racers <= 10:\n",
        "        return racers\n",
        "      else:\n",
        "        print(\"Try entering a number between 2 to 10!\")\n",
        "        continue\n",
        "    else:\n",
        "      print(\"Input is not numeric! Try again!\")\n",
        "      continue\n",
        "\n",
        "def init_turtle():\n",
        "  screen = turtle.Screen()\n",
        "  screen.setup(WIDTH,HEIGHT)\n",
        "  screen.title(\"Turtle Racing!\")\n",
        "\n",
        "\n",
        "def race(colors):\n",
        "  turtles = create_turtles(colors)\n",
        "\n",
        "  while True:\n",
        "    for racer in turtles:\n",
        "      distance = random.randrange(1,20)\n",
        "      racer.forward(distance)\n",
        "\n",
        "      x, y = racer.pos()\n",
        "\n",
        "      if y >= HEIGHT // 2 - 10:\n",
        "        return colors[turtles.index(turtle)]\n",
        "\n",
        "\n",
        "def create_turtles(colors):\n",
        "  turtles = []\n",
        "  spacingx = WIDTH // (len(colors + 1))\n",
        "  for i, colors in enumerate(colors):\n",
        "    racer = turtle.Trurtle()\n",
        "    racer.color(color)\n",
        "    racer.shape('turtle')\n",
        "    racer.left(90)\n",
        "    racer.pendup()\n",
        "    racer.setpos(-WIDTH // 2 +(i +1) * spacingx, -HEIGHT //2 + 20)\n",
        "    racer.pendown()\n",
        "    turtles.append(racer)\n",
        "  return turtles\n",
        "\n",
        "\n",
        "\n",
        "\n",
        "racers = get_number_of_racers()\n",
        "init_turtle()\n",
        "random.shuffle(COLORS)\n",
        "colors = COLORS[:racers]\n",
        "winner = race(colors)\n",
        "print(winner)\n",
        "\n",
        "\n",
        "# racer = turtle.Turtle()\n",
        "# racer.spped(1)\n",
        "# racer.shape('turtle')\n",
        "# racer.color('yellow')\n",
        "# racer.left(90)\n",
        "# racer.forward(100)\n",
        "# racer.right(90)\n",
        "# racer.backward(100)\n",
        "# # time.sleep(5)-"
      ],
      "metadata": {
        "id": "wVCBIwqTa50W"
      },
      "execution_count": null,
      "outputs": []
    },
    {
      "cell_type": "code",
      "source": [],
      "metadata": {
        "id": "-p4YbBAyTsOy"
      },
      "execution_count": null,
      "outputs": []
    },
    {
      "cell_type": "code",
      "source": [],
      "metadata": {
        "id": "GCzDARXyuR_J"
      },
      "execution_count": null,
      "outputs": []
    }
  ]
}