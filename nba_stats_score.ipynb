{
  "nbformat": 4,
  "nbformat_minor": 0,
  "metadata": {
    "colab": {
      "provenance": [],
      "authorship_tag": "ABX9TyPP6j7Quwnk0h5HDTvJnEL7",
      "include_colab_link": true
    },
    "kernelspec": {
      "name": "python3",
      "display_name": "Python 3"
    },
    "language_info": {
      "name": "python"
    }
  },
  "cells": [
    {
      "cell_type": "markdown",
      "metadata": {
        "id": "view-in-github",
        "colab_type": "text"
      },
      "source": [
        "<a href=\"https://colab.research.google.com/github/Tagore-7/python_projects/blob/main/nba_stats_score.ipynb\" target=\"_parent\"><img src=\"https://colab.research.google.com/assets/colab-badge.svg\" alt=\"Open In Colab\"/></a>"
      ]
    },
    {
      "cell_type": "code",
      "source": [
        "from requests import get\n",
        "from pprint import PrettyPrinter\n",
        "\n",
        "BASE_URL = \"https://data.nba.net\"\n",
        "ALL_JSON = \"/prod/v1/today.json\"\n",
        "\n",
        "printer = PrettyPrinter()\n",
        "\n",
        "data = get(BASE_URL + ALL_JSON).json()\n",
        "printer.pprint(data)\n",
        "\n",
        "def get_links():\n",
        "  data = get(BASE_URL + ALL_JSON).json()\n",
        "  links = data['links']\n",
        "  return links\n",
        "\n",
        "\n",
        "def get_scoreboard():\n",
        "  scoreboard = get_links['currentScoreboard']\n",
        "  data =get(BASE_URL + scoreboard).json()['games']\n",
        "  for game in data:\n",
        "    home_team = game['hTeam']\n",
        "    away_team = game['vTeam']\n",
        "    clock = game['clock']\n",
        "    period = game['period']\n",
        "\n",
        "    print(\"-----------------------------------------------\")\n",
        "    print(f\"{home_team['triCode']} vs {away_team['triCode']} \")\n",
        "    print(f\"{home_team['score']} vs {away_team['score']}\")\n",
        "    print(f\"{clock}, {period['current']} \")\n",
        "  # printer.pprint(data)\n",
        "\n",
        "\n",
        "def get_stats():\n",
        "  stats = get_links()['leagueTeamStatsLeaders']\n",
        "  teams = get(BASE_URL + stats).json()['league']['standard']['regularseason']['teams']\n",
        "\n",
        "  printer.pprint(teams[0].keys)\n",
        "\n",
        "  teams = list(filter(lambda x: x['name'] != \"Team\", teams))\n",
        "  teams.sort(key = lambda x: int(x['ppg']['rank']))\n",
        "\n",
        "  for i, team in enumerate(teams):\n",
        "    name = team['name']\n",
        "    nickname = team['nickname']\n",
        "    ppg = team['ppg']\n",
        "    print(f\"{i + 1}. {name} - {nickname} - {ppg}\")\n",
        "\n",
        "\n",
        "\n",
        "get_scoreboard()"
      ],
      "metadata": {
        "id": "JpVa69hYHXbw"
      },
      "execution_count": null,
      "outputs": []
    },
    {
      "cell_type": "code",
      "source": [],
      "metadata": {
        "id": "j1EbBU-6HXYK"
      },
      "execution_count": null,
      "outputs": []
    },
    {
      "cell_type": "code",
      "source": [],
      "metadata": {
        "id": "OcEoUGsEHXWF"
      },
      "execution_count": null,
      "outputs": []
    },
    {
      "cell_type": "code",
      "source": [],
      "metadata": {
        "id": "1MVFt6QbHXSS"
      },
      "execution_count": null,
      "outputs": []
    },
    {
      "cell_type": "code",
      "source": [],
      "metadata": {
        "id": "4vzc6hXkHXPn"
      },
      "execution_count": null,
      "outputs": []
    },
    {
      "cell_type": "code",
      "source": [],
      "metadata": {
        "id": "fclKm635HXNq"
      },
      "execution_count": null,
      "outputs": []
    },
    {
      "cell_type": "code",
      "source": [],
      "metadata": {
        "id": "Qg9PpIwiHXLE"
      },
      "execution_count": null,
      "outputs": []
    },
    {
      "cell_type": "code",
      "source": [],
      "metadata": {
        "id": "NS0JqMblHXIm"
      },
      "execution_count": null,
      "outputs": []
    },
    {
      "cell_type": "code",
      "source": [],
      "metadata": {
        "id": "J_RkkfNQHXF4"
      },
      "execution_count": null,
      "outputs": []
    }
  ]
}