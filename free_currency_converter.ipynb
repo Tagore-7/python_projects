{
  "nbformat": 4,
  "nbformat_minor": 0,
  "metadata": {
    "colab": {
      "provenance": [],
      "authorship_tag": "ABX9TyN/ofZB8VeGdlGJprI6/beY",
      "include_colab_link": true
    },
    "kernelspec": {
      "name": "python3",
      "display_name": "Python 3"
    },
    "language_info": {
      "name": "python"
    }
  },
  "cells": [
    {
      "cell_type": "markdown",
      "metadata": {
        "id": "view-in-github",
        "colab_type": "text"
      },
      "source": [
        "<a href=\"https://colab.research.google.com/github/Tagore-7/python_projects/blob/main/free_currency_converter.ipynb\" target=\"_parent\"><img src=\"https://colab.research.google.com/assets/colab-badge.svg\" alt=\"Open In Colab\"/></a>"
      ]
    },
    {
      "cell_type": "code",
      "source": [
        "from requests import get\n",
        "from pprint import PrettyPrinter\n",
        "\n",
        "API_KEY = \"BFHJDSVSAJHCJSHCEJH454S5456\"\n",
        "BASE_URL = \"https://free.currconv.com/\"\n",
        "\n",
        "printer = PrettyPrinter()\n",
        "\n",
        "def get_currencies():\n",
        "  endpoint = f\"api/ccbs/currencies?apikey={API_KEY}\"\n",
        "  url = BASE_URL + endpoint\n",
        "  data = get(url).json()['results']\n",
        "\n",
        "  data = list(data.items())\n",
        "  data.sort()\n",
        "\n",
        "  return data\n",
        "\n",
        "def print_currencies(currencies):\n",
        "  for name, currency in currencies:\n",
        "    name = currency['currencyName']\n",
        "    _id = currency['id']\n",
        "\n",
        "    symbol = currency.get('currencySymbol',\"\")\n",
        "    print(f\"{_id} - {name} - {symbol}\")\n",
        "\n",
        "\n",
        "def exchange_rate(currency1, currency2):\n",
        "  endpoint = f\"api/v7/convert?q={currency1}_{currency2}&compact_ultra&apiKey={API_KEY}\"\n",
        "  url = BASE_URL + endpoint\n",
        "  reponse = get(url)\n",
        "\n",
        "  data = reponse.json()\n",
        "\n",
        "  if len(data) == 0:\n",
        "    print(\"Invalid currencies.\")\n",
        "    return\n",
        "\n",
        "\n",
        "  rate = list(data.values())[0]\n",
        "  print(f\"{currency1} -> {currency2} = {rate}\")\n",
        "  return rate\n",
        "\n",
        "def convert(currency1, currency2, amount):\n",
        "  rate =exchage_rate(currency1, currency2)\n",
        "  if rate is None:\n",
        "    return\n",
        "\n",
        "  try:\n",
        "    amount = float(amount)\n",
        "  except:\n",
        "    print(\"Invalid amount\")\n",
        "    return\n",
        "  con_amount = rate* amount\n",
        "  print(f\"{amount} {currency} is equal to {con_amount} {currency2}\")\n",
        "  return con_amount\n",
        "\n",
        "\n",
        "def main():\n",
        "  currencies = get_currencies()\n",
        "\n",
        "  print(\"Welcome to the currency converter!\")\n",
        "  print(\"List - lists the different currencies\")\n",
        "  print(\"Convert - convert from one currency to another\")\n",
        "  print(\"Rate - get the exchage rate of two currencies\")\n",
        "  print()\n",
        "\n",
        "  while True:\n",
        "    command =input(\"enter a command (q to quit): \").lower()\n",
        "\n",
        "    if command  == 'q':\n",
        "      break\n",
        "    elif command == \"list\":\n",
        "      print_currencies(currencies)\n",
        "    elif command == 'convert':\n",
        "      currency1 = input(\"Enter a base currency: \").upper()\n",
        "      amount = input(f\"Enter an amount in {currency1}: \")\n",
        "      currency2 = input(\"Enter a currency to convert to: \").upper()\n",
        "      convert(currency1, currency2, amount)\n",
        "    elif command == 'rate':\n",
        "      currency1 = input(\"Enter a base currency: \").upper()\n",
        "      currency2 = input(\"Enter a currency to convert to: \").upper()\n",
        "      exchange_rate(currency1, currency2)\n",
        "    else:\n",
        "      print(\"Unrecognized command!\")\n",
        "\n",
        "\n",
        "main()\n",
        "\n"
      ],
      "metadata": {
        "id": "j1EbBU-6HXYK"
      },
      "execution_count": null,
      "outputs": []
    },
    {
      "cell_type": "code",
      "source": [],
      "metadata": {
        "id": "OcEoUGsEHXWF"
      },
      "execution_count": null,
      "outputs": []
    },
    {
      "cell_type": "code",
      "source": [],
      "metadata": {
        "id": "1MVFt6QbHXSS"
      },
      "execution_count": null,
      "outputs": []
    },
    {
      "cell_type": "code",
      "source": [],
      "metadata": {
        "id": "4vzc6hXkHXPn"
      },
      "execution_count": null,
      "outputs": []
    },
    {
      "cell_type": "code",
      "source": [],
      "metadata": {
        "id": "fclKm635HXNq"
      },
      "execution_count": null,
      "outputs": []
    },
    {
      "cell_type": "code",
      "source": [],
      "metadata": {
        "id": "Qg9PpIwiHXLE"
      },
      "execution_count": null,
      "outputs": []
    },
    {
      "cell_type": "code",
      "source": [],
      "metadata": {
        "id": "NS0JqMblHXIm"
      },
      "execution_count": null,
      "outputs": []
    },
    {
      "cell_type": "code",
      "source": [],
      "metadata": {
        "id": "J_RkkfNQHXF4"
      },
      "execution_count": null,
      "outputs": []
    },
    {
      "cell_type": "code",
      "source": [],
      "metadata": {
        "id": "1_8T-wWI8NDW"
      },
      "execution_count": null,
      "outputs": []
    },
    {
      "cell_type": "code",
      "source": [],
      "metadata": {
        "id": "p7FLQ5X68NAE"
      },
      "execution_count": null,
      "outputs": []
    },
    {
      "cell_type": "code",
      "source": [],
      "metadata": {
        "id": "VjV7psVd8M9S"
      },
      "execution_count": null,
      "outputs": []
    },
    {
      "cell_type": "code",
      "source": [],
      "metadata": {
        "id": "3MfBaQR38M6a"
      },
      "execution_count": null,
      "outputs": []
    },
    {
      "cell_type": "code",
      "source": [],
      "metadata": {
        "id": "TmPS5xQk8M3t"
      },
      "execution_count": null,
      "outputs": []
    },
    {
      "cell_type": "code",
      "source": [],
      "metadata": {
        "id": "C2fgq1tO8M0M"
      },
      "execution_count": null,
      "outputs": []
    }
  ]
}