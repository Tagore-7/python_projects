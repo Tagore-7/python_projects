{
  "nbformat": 4,
  "nbformat_minor": 0,
  "metadata": {
    "colab": {
      "provenance": [],
      "authorship_tag": "ABX9TyP2vomwqYxlapxoYH3b6pl2",
      "include_colab_link": true
    },
    "kernelspec": {
      "name": "python3",
      "display_name": "Python 3"
    },
    "language_info": {
      "name": "python"
    }
  },
  "cells": [
    {
      "cell_type": "markdown",
      "metadata": {
        "id": "view-in-github",
        "colab_type": "text"
      },
      "source": [
        "<a href=\"https://colab.research.google.com/github/Tagore-7/python_projects/blob/main/file_backup.ipynb\" target=\"_parent\"><img src=\"https://colab.research.google.com/assets/colab-badge.svg\" alt=\"Open In Colab\"/></a>"
      ]
    },
    {
      "cell_type": "code",
      "source": [
        "!pip install schedule\n",
        "import os\n",
        "import shutil\n",
        "import datetime\n",
        "import schedule\n",
        "import time\n",
        "\n",
        "source_dir = \"source_path\"\n",
        "destination_dir =  \"destination_path\"\n",
        "\n",
        "def copy_floder_to_dir(source_dir, destination_dir):\n",
        "  today = datatime.date.today()\n",
        "  dest_dir = os.path.join(destination_dir, str(today))\n",
        "\n",
        "  try:\n",
        "    shutil.copytree(source_dir, dest_dir)\n",
        "    print(f\"folder copied to: {dest_dir}\")\n",
        "  except:\n",
        "    print(f\"floder already exist\")\n",
        "\n",
        "schedule.every().day().at(\"06:55\").do(lambda: copy_floder_to_dir(source_dir, destination_dir))\n",
        "\n",
        "copy_floder_to_dir()\n",
        "\n",
        "\n",
        "while True:\n",
        "  schedule.run_pending()\n",
        "  timwe.sleep(60)"
      ],
      "metadata": {
        "id": "1MVFt6QbHXSS",
        "colab": {
          "base_uri": "https://localhost:8080/"
        },
        "outputId": "3f513f99-2ff1-40b7-aba6-de8c88b96241"
      },
      "execution_count": 1,
      "outputs": [
        {
          "output_type": "stream",
          "name": "stdout",
          "text": [
            "Collecting schedule\n",
            "  Downloading schedule-1.2.2-py3-none-any.whl (12 kB)\n",
            "Installing collected packages: schedule\n",
            "Successfully installed schedule-1.2.2\n"
          ]
        }
      ]
    },
    {
      "cell_type": "code",
      "source": [],
      "metadata": {
        "id": "4vzc6hXkHXPn"
      },
      "execution_count": null,
      "outputs": []
    },
    {
      "cell_type": "code",
      "source": [],
      "metadata": {
        "id": "fclKm635HXNq"
      },
      "execution_count": null,
      "outputs": []
    },
    {
      "cell_type": "code",
      "source": [],
      "metadata": {
        "id": "Qg9PpIwiHXLE"
      },
      "execution_count": null,
      "outputs": []
    },
    {
      "cell_type": "code",
      "source": [],
      "metadata": {
        "id": "NS0JqMblHXIm"
      },
      "execution_count": null,
      "outputs": []
    },
    {
      "cell_type": "code",
      "source": [],
      "metadata": {
        "id": "J_RkkfNQHXF4"
      },
      "execution_count": null,
      "outputs": []
    },
    {
      "cell_type": "code",
      "source": [],
      "metadata": {
        "id": "1_8T-wWI8NDW"
      },
      "execution_count": null,
      "outputs": []
    },
    {
      "cell_type": "code",
      "source": [],
      "metadata": {
        "id": "p7FLQ5X68NAE"
      },
      "execution_count": null,
      "outputs": []
    },
    {
      "cell_type": "code",
      "source": [],
      "metadata": {
        "id": "VjV7psVd8M9S"
      },
      "execution_count": null,
      "outputs": []
    },
    {
      "cell_type": "code",
      "source": [],
      "metadata": {
        "id": "3MfBaQR38M6a"
      },
      "execution_count": null,
      "outputs": []
    },
    {
      "cell_type": "code",
      "source": [],
      "metadata": {
        "id": "TmPS5xQk8M3t"
      },
      "execution_count": null,
      "outputs": []
    },
    {
      "cell_type": "code",
      "source": [],
      "metadata": {
        "id": "C2fgq1tO8M0M"
      },
      "execution_count": null,
      "outputs": []
    }
  ]
}