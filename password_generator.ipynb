{
  "nbformat": 4,
  "nbformat_minor": 0,
  "metadata": {
    "colab": {
      "provenance": [],
      "authorship_tag": "ABX9TyOm26WUCQGb+ZWfOrx8IY7R",
      "include_colab_link": true
    },
    "kernelspec": {
      "name": "python3",
      "display_name": "Python 3"
    },
    "language_info": {
      "name": "python"
    }
  },
  "cells": [
    {
      "cell_type": "markdown",
      "metadata": {
        "id": "view-in-github",
        "colab_type": "text"
      },
      "source": [
        "<a href=\"https://colab.research.google.com/github/Tagore-7/python_projects/blob/main/password_generator.ipynb\" target=\"_parent\"><img src=\"https://colab.research.google.com/assets/colab-badge.svg\" alt=\"Open In Colab\"/></a>"
      ]
    },
    {
      "cell_type": "code",
      "source": [
        "import random\n",
        "import string\n",
        "\n",
        "def generate_password(min_length , numbers = True, special_characters = True):\n",
        "  letters = string.ascii_letters\n",
        "  digits = string.digits\n",
        "  special = string.punctuation\n",
        "\n",
        "  characters = letters\n",
        "  if numbers:\n",
        "    characters += digits\n",
        "  if special_characters:\n",
        "    characters += special\n",
        "\n",
        "  password = \"\"\n",
        "\n",
        "  meets_creteria = False\n",
        "  has_number = False\n",
        "  has_special = False\n",
        "\n",
        "  while not meets_creteria or len(password) < min_length:\n",
        "    new_char = random.choice(characters)\n",
        "    password += new_char\n",
        "\n",
        "    if new_char in digits:\n",
        "      has_number = True\n",
        "    elif new_char in special:\n",
        "      has_special = True\n",
        "\n",
        "    meets_creteria = True\n",
        "    if numbers:\n",
        "      meets_creteria = has_number\n",
        "    if special_characters:\n",
        "      meets_creteria = meets_creteria and has_special\n",
        "\n",
        "  return password\n",
        "\n",
        "generate_password(10, True, True)\n",
        "\n",
        "min_length = int(input(\"Enter the minimum length: \"))\n",
        "has_number = input(\"Do you want to have numbers (y/n): \").lower() == 'y'\n",
        "has_special = input(\"Do you want to add special characters (y/n): \").lower() == 'y'\n",
        "password = generate_password(min_length, has_number, has_special)\n",
        "print(f\"password is {password}\")"
      ],
      "metadata": {
        "colab": {
          "base_uri": "https://localhost:8080/"
        },
        "id": "7rvAGYs6Vk_u",
        "outputId": "ac4a8ef8-7866-4f41-e165-95d6c11bc1f1"
      },
      "execution_count": 7,
      "outputs": [
        {
          "output_type": "stream",
          "name": "stdout",
          "text": [
            "Enter the minimum length: 20\n",
            "Do you want to have numbers (y/n): y\n",
            "Do you want to add special characters (y/n): y\n",
            "password is %@(7{TUO?uP$ffQ0sd42\n"
          ]
        }
      ]
    },
    {
      "cell_type": "code",
      "source": [],
      "metadata": {
        "id": "baSDjM5InFf0"
      },
      "execution_count": null,
      "outputs": []
    }
  ]
}