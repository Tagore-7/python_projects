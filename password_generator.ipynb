{
  "nbformat": 4,
  "nbformat_minor": 0,
  "metadata": {
    "colab": {
      "provenance": [],
      "authorship_tag": "ABX9TyOM3lrCS0dYds46Ez6Luc2C",
      "include_colab_link": true
    },
    "kernelspec": {
      "name": "python3",
      "display_name": "Python 3"
    },
    "language_info": {
      "name": "python"
    }
  },
  "cells": [
    {
      "cell_type": "markdown",
      "metadata": {
        "id": "view-in-github",
        "colab_type": "text"
      },
      "source": [
        "<a href=\"https://colab.research.google.com/github/Tagore-7/python_projects/blob/main/password_generator.ipynb\" target=\"_parent\"><img src=\"https://colab.research.google.com/assets/colab-badge.svg\" alt=\"Open In Colab\"/></a>"
      ]
    },
    {
      "cell_type": "code",
      "source": [
        "import random\n",
        "import string\n",
        "\n",
        "def generate_password(min_length , numbers = True, special_characters = True):\n",
        "  letters = string.ascii_letters\n",
        "  digits = string.digits\n",
        "  special = string.punctuation\n",
        "\n",
        "  characters = letters\n",
        "  if numbers:\n",
        "    characters += digits\n",
        "  if special_characters:\n",
        "    characters += special\n",
        "\n",
        "  password = \"\"\n",
        "\n",
        "  meets_creteria = False\n",
        "  has_number = False\n",
        "  has_special = False\n",
        "\n",
        "  while not meets_creteria or len(password) < min_length:\n",
        "    new_char = random.choice(characters)\n",
        "    password += new_char\n",
        "\n",
        "    if new_char in digits:\n",
        "      has_number = True\n",
        "    elif new_char in special:\n",
        "      has_special = True\n",
        "\n",
        "    meets_creteria = True\n",
        "    if numbers:\n",
        "      meets_creteria = has_number\n",
        "    if special_characters:\n",
        "      meets_creteria = meets_creteria and has_special\n",
        "\n",
        "  return password\n",
        "\n",
        "generate_password(10, True, True)"
      ],
      "metadata": {
        "colab": {
          "base_uri": "https://localhost:8080/",
          "height": 35
        },
        "id": "7rvAGYs6Vk_u",
        "outputId": "ff25a054-50f7-45bd-c7d3-39b65fa1d332"
      },
      "execution_count": 5,
      "outputs": [
        {
          "output_type": "execute_result",
          "data": {
            "text/plain": [
              "'pfSW{@CK2L'"
            ],
            "application/vnd.google.colaboratory.intrinsic+json": {
              "type": "string"
            }
          },
          "metadata": {},
          "execution_count": 5
        }
      ]
    },
    {
      "cell_type": "code",
      "source": [],
      "metadata": {
        "id": "baSDjM5InFf0"
      },
      "execution_count": null,
      "outputs": []
    }
  ]
}