{
  "nbformat": 4,
  "nbformat_minor": 0,
  "metadata": {
    "colab": {
      "provenance": [],
      "authorship_tag": "ABX9TyPJFDTiBIWH6Ljw7P4CtY9D",
      "include_colab_link": true
    },
    "kernelspec": {
      "name": "python3",
      "display_name": "Python 3"
    },
    "language_info": {
      "name": "python"
    }
  },
  "cells": [
    {
      "cell_type": "markdown",
      "metadata": {
        "id": "view-in-github",
        "colab_type": "text"
      },
      "source": [
        "<a href=\"https://colab.research.google.com/github/Tagore-7/python_projects/blob/main/password_manager_with_encryption.ipynb\" target=\"_parent\"><img src=\"https://colab.research.google.com/assets/colab-badge.svg\" alt=\"Open In Colab\"/></a>"
      ]
    },
    {
      "cell_type": "code",
      "source": [
        "from pickle import load\n",
        "import hashlib\n",
        "import cryptography\n",
        "from cryptography.fernet import Fernet\n",
        "\n",
        "def write_key():\n",
        "  key = Fernet.generate_key()\n",
        "  with open(\"key.key\", \"wb\") as key_file:\n",
        "    key_file.write(key)\n",
        "\n",
        "write_key()\n",
        "\n",
        "def load_key():\n",
        "  return open(\"key.key\",\"rb\").read()\n",
        "\n",
        "master_password = input(\"what is the matser password? \")\n",
        "hashed_password = hashlib.sha256(master_password.encode()).digest()\n",
        "key = load_key() + hashed_password\n",
        "fer = Fernet(key)\n",
        "\n",
        "def view():\n",
        "  with open(\"passwords.txt\",'r') as f:\n",
        "    for line in f.readlines():\n",
        "      data = line.rstrip()\n",
        "      user_name, password = data.split(\"|\")\n",
        "      print(f\"user name is: {user_name} and password is: {fer.decrypt(password.encode()).decode()}\")\n",
        "\n",
        "def add():\n",
        "  user_name = input(\"Account Name:\")\n",
        "  pass_name = input(\"Enter password: \")\n",
        "\n",
        "  with open('passwords.txt', 'a') as f:\n",
        "    f.write(user_name + \"|\" + fer.encrypt(pass_name.encode()).decode() + '\\n')\n",
        "\n",
        "\n",
        "\n",
        "\n",
        "while True:\n",
        "  mode = input(\"would you like to add a new password or view existing one. Enter add or view or q to quit: \").lower()\n",
        "\n",
        "  if mode == \"q\":\n",
        "    break\n",
        "  elif mode == 'view':\n",
        "    view()\n",
        "  elif mode == 'add':\n",
        "    add()\n",
        "  else:\n",
        "    print(\"Invalid mode\")\n",
        "    continue"
      ],
      "metadata": {
        "id": "wVCBIwqTa50W",
        "colab": {
          "base_uri": "https://localhost:8080/"
        },
        "outputId": "97494b34-20ec-4472-c28c-3533c14235f2"
      },
      "execution_count": 1,
      "outputs": [
        {
          "name": "stdout",
          "output_type": "stream",
          "text": [
            "what is the matser password? ndbsd\n",
            "would you like to add a new password or view existing one. Enter add or view or q to quit: add\n",
            "Account Name:nbsdvns\n",
            "Enter password: vsd\n",
            "would you like to add a new password or view existing one. Enter add or view or q to quit: view\n",
            "user name is: nbsdvns and password is: vsd\n",
            "would you like to add a new password or view existing one. Enter add or view or q to quit: q\n"
          ]
        }
      ]
    },
    {
      "cell_type": "code",
      "source": [],
      "metadata": {
        "id": "GCzDARXyuR_J"
      },
      "execution_count": 1,
      "outputs": []
    }
  ]
}