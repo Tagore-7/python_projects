{
  "nbformat": 4,
  "nbformat_minor": 0,
  "metadata": {
    "colab": {
      "provenance": [],
      "authorship_tag": "ABX9TyPOaeLhVhtGS45OUA3aYHPy",
      "include_colab_link": true
    },
    "kernelspec": {
      "name": "python3",
      "display_name": "Python 3"
    },
    "language_info": {
      "name": "python"
    }
  },
  "cells": [
    {
      "cell_type": "markdown",
      "metadata": {
        "id": "view-in-github",
        "colab_type": "text"
      },
      "source": [
        "<a href=\"https://colab.research.google.com/github/Tagore-7/python_projects/blob/main/Quiz_Game.ipynb\" target=\"_parent\"><img src=\"https://colab.research.google.com/assets/colab-badge.svg\" alt=\"Open In Colab\"/></a>"
      ]
    },
    {
      "cell_type": "code",
      "execution_count": null,
      "metadata": {
        "colab": {
          "base_uri": "https://localhost:8080/"
        },
        "id": "yjhSMNYLNKHZ",
        "outputId": "f6802a89-7ef7-4d9b-dcc9-29d5053de78a"
      },
      "outputs": [
        {
          "output_type": "stream",
          "name": "stdout",
          "text": [
            "Welcome to my computer quiz!\n",
            "Do you want to play game yes or no? nbsd\n",
            "let's play\n",
            "what is a LLM? mnsbds\n",
            "Inccorrect!\n",
            "what is a ram? nbvsd\n",
            "Inccorrect!\n",
            "what is a rom? bvsmn\n",
            "Inccorrect!\n",
            "what is gpu? bss\n",
            "Inccorrect!\n",
            "what is cpu? hmsbs\n",
            "Inccorrect!\n",
            "your got: 0 correct\n",
            "correct percentage is 0.0\n"
          ]
        }
      ],
      "source": [
        "print(\"Welcome to my computer quiz!\")\n",
        "\n",
        "playing = input(\"Do you want to play game yes or no? \").lower()\n",
        "\n",
        "if playing != \"yes\":\n",
        "  quit()\n",
        "\n",
        "print(\"let's play\")\n",
        "score = 0\n",
        "answer = input(\"what is a LLM? \").lower()\n",
        "\n",
        "if answer == \"large language model\":\n",
        "  print(\"Correct!\")\n",
        "  score += 1\n",
        "else:\n",
        "  print(\"Inccorrect!\")\n",
        "\n",
        "\n",
        "\n",
        "answer = input(\"what is a ram? \").lower()\n",
        "\n",
        "if answer == \"random access memory\":\n",
        "  print(\"Correct!\")\n",
        "  score += 1\n",
        "else:\n",
        "  print(\"Inccorrect!\")\n",
        "\n",
        "\n",
        "answer = input(\"what is a rom? \").lower()\n",
        "\n",
        "if answer == \"read only memory\":\n",
        "  print(\"Correct!\")\n",
        "  score += 1\n",
        "else:\n",
        "  print(\"Inccorrect!\")\n",
        "\n",
        "\n",
        "answer = input(\"what is gpu? \").lower()\n",
        "\n",
        "if answer == \"graphics processing unit?\":\n",
        "  print(\"Correct!\")\n",
        "  score += 1\n",
        "else:\n",
        "  print(\"Inccorrect!\")\n",
        "\n",
        "answer = input(\"what is cpu? \").lower()\n",
        "\n",
        "if answer == \"central processing unit?\":\n",
        "  print(\"Correct!\")\n",
        "  score += 1\n",
        "else:\n",
        "  print(\"Inccorrect!\")\n",
        "\n",
        "\n",
        "print(f\"your got: {score} correct\")\n",
        "percent = score / 4 *100\n",
        "print(f\"correct percentage is {percent}\")"
      ]
    },
    {
      "cell_type": "code",
      "source": [],
      "metadata": {
        "id": "YgX7UNiDNlkQ"
      },
      "execution_count": null,
      "outputs": []
    }
  ]
}