{
  "nbformat": 4,
  "nbformat_minor": 0,
  "metadata": {
    "colab": {
      "provenance": [],
      "authorship_tag": "ABX9TyPJO54eh9fYrIdt8BhBsLxf",
      "include_colab_link": true
    },
    "kernelspec": {
      "name": "python3",
      "display_name": "Python 3"
    },
    "language_info": {
      "name": "python"
    }
  },
  "cells": [
    {
      "cell_type": "markdown",
      "metadata": {
        "id": "view-in-github",
        "colab_type": "text"
      },
      "source": [
        "<a href=\"https://colab.research.google.com/github/Tagore-7/python_projects/blob/main/Rock_Paper_Scissors.ipynb\" target=\"_parent\"><img src=\"https://colab.research.google.com/assets/colab-badge.svg\" alt=\"Open In Colab\"/></a>"
      ]
    },
    {
      "cell_type": "code",
      "source": [
        "import random\n",
        "\n",
        "user_score = 0\n",
        "computer_score = 0\n",
        "tie = 0\n",
        "options = ['rock', 'paper', 'scissors']\n",
        "while True:\n",
        "  user_input = input(\"Type Rock/Paper/Scissors or Q to quit: \").lower()\n",
        "\n",
        "  if user_input == \"q\":\n",
        "    break\n",
        "\n",
        "  if user_input not in options:\n",
        "    continue\n",
        "\n",
        "  random_number = random.randint(0,2)\n",
        "  # 0 - rock, 1 - paper, 2 - scissors\n",
        "  computer_guess = options[random_number]\n",
        "  print(f\"computer picked {computer_guess}\")\n",
        "\n",
        "  if user_input == \"rock\" and computer_guess == \"scissors\":\n",
        "    print(\"You win!\")\n",
        "    user_score += 1\n",
        "  elif user_input == \"paper\" and computer_guess == \"rock\":\n",
        "    print(\"You win!\")\n",
        "    user_score += 1\n",
        "  elif user_input == \"scissors\" and computer_guess == \"paper\":\n",
        "    print(\"You win!\")\n",
        "    user_score += 1\n",
        "  elif user_input == computer_guess:\n",
        "    print(\"tie\")\n",
        "    tie += 1\n",
        "  else:\n",
        "    print(\"you lost\")\n",
        "    computer_score += 1\n",
        "\n",
        "print(f\"you won {user_score} and the computer won {computer_score} and tie {tie}\")\n",
        "print(\"GoodBye!\")\n",
        "\n"
      ],
      "metadata": {
        "id": "YgX7UNiDNlkQ",
        "colab": {
          "base_uri": "https://localhost:8080/"
        },
        "outputId": "922e0ab5-a187-4c19-a944-7ec8b735e61c"
      },
      "execution_count": 3,
      "outputs": [
        {
          "output_type": "stream",
          "name": "stdout",
          "text": [
            "Type Rock/Paper/Scissors or Q to quit: paper\n",
            "computer picked scissors\n",
            "you lost\n",
            "Type Rock/Paper/Scissors or Q to quit: rock\n",
            "computer picked rock\n",
            "tie\n",
            "Type Rock/Paper/Scissors or Q to quit: scissors\n",
            "computer picked scissors\n",
            "tie\n",
            "Type Rock/Paper/Scissors or Q to quit: rock\n",
            "computer picked scissors\n",
            "You win!\n",
            "Type Rock/Paper/Scissors or Q to quit: rock\n",
            "computer picked rock\n",
            "tie\n",
            "Type Rock/Paper/Scissors or Q to quit: rock\n",
            "computer picked scissors\n",
            "You win!\n",
            "Type Rock/Paper/Scissors or Q to quit: rock\n",
            "computer picked scissors\n",
            "You win!\n",
            "Type Rock/Paper/Scissors or Q to quit: paper\n",
            "computer picked scissors\n",
            "you lost\n",
            "Type Rock/Paper/Scissors or Q to quit: paper\n",
            "computer picked rock\n",
            "You win!\n",
            "Type Rock/Paper/Scissors or Q to quit: q\n",
            "you won 4 and the computer won 2 and tie 3\n",
            "GoodBye!\n"
          ]
        }
      ]
    },
    {
      "cell_type": "code",
      "source": [],
      "metadata": {
        "id": "wVCBIwqTa50W"
      },
      "execution_count": null,
      "outputs": []
    }
  ]
}