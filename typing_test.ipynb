{
  "nbformat": 4,
  "nbformat_minor": 0,
  "metadata": {
    "colab": {
      "provenance": [],
      "authorship_tag": "ABX9TyPFzPg0rqVGa2xq1nfHC6fk",
      "include_colab_link": true
    },
    "kernelspec": {
      "name": "python3",
      "display_name": "Python 3"
    },
    "language_info": {
      "name": "python"
    }
  },
  "cells": [
    {
      "cell_type": "markdown",
      "metadata": {
        "id": "view-in-github",
        "colab_type": "text"
      },
      "source": [
        "<a href=\"https://colab.research.google.com/github/Tagore-7/python_projects/blob/main/typing_test.ipynb\" target=\"_parent\"><img src=\"https://colab.research.google.com/assets/colab-badge.svg\" alt=\"Open In Colab\"/></a>"
      ]
    },
    {
      "cell_type": "code",
      "source": [
        "import curses\n",
        "from curses import wrapper\n",
        "import time\n",
        "import random\n",
        "\n",
        "def start_screen(stdscr):\n",
        "  stdscr.clear()\n",
        "  stdscr.addstr( \"Welcome to the speed Typing Test!\")\n",
        "  stdscr.addstr(\"/nPress any key to begin!\")\n",
        "  stdscr.refresh()\n",
        "  stdscr.getkey()\n",
        "\n",
        "\n",
        "def display_text(stdscr, target, current, wpm = 0):\n",
        "  stdscr.addstr(target)\n",
        "  stdscr.addstr(1,0, f\"WPM: {wpm}\")\n",
        "\n",
        "\n",
        "  for i, char in enumerate(current):\n",
        "    correct_char = target[i]\n",
        "    color = curses.color_pair(1)\n",
        "    if char != correct_char:\n",
        "      color = curses.color_pair(2)\n",
        "    stdscr.addstr(0, i, char, color)\n",
        "\n",
        "def load_test():\n",
        "  with open(\"story.txt\",\"r\") as f:\n",
        "    lines = f.readlines()\n",
        "    return random.choice(lines).strip()\n",
        "\n",
        "def wpm_test(stdscr):\n",
        "  target_text = load_test()\n",
        "  current_text = []\n",
        "  wpm = 0\n",
        "  start_time = time.time()\n",
        "  stdscr.nodelay(True)\n",
        "  while True:\n",
        "    time_elapsed = max(time.time() - start_time, 1)\n",
        "    wpm = round((len(current_text) / (time_elapsed / 60)) / 5)\n",
        "    stdscr.clear()\n",
        "    display_text(stdscr, target_text, current_text, wpm = 0)\n",
        "    stdscr.refresh()\n",
        "\n",
        "    if \"\".join(current_text) == target_text:\n",
        "      stdscr.nodelay(False)\n",
        "      break\n",
        "    try:\n",
        "      key = stdscr.getkey()\n",
        "    except:\n",
        "      continue\n",
        "\n",
        "    if ord(key) == 27:\n",
        "      break\n",
        "\n",
        "    if key in (\"KEY_BACKSPACE\",\"\\ b\",\"\\x7f\"):\n",
        "      if len(current_text) > 0:\n",
        "        current_text.pop()\n",
        "    elif len(current_text) < len(target_text):\n",
        "      current_text.append(key)\n",
        "\n",
        "\n",
        "def main(stdscr):\n",
        "  curses.init_pair(1, curses.COLOR_WHITE, curses.COLOR_GREEN)\n",
        "  curses.init_pair(2, curses.COLOR_YELLOW, curses.COLOR_WHITE)\n",
        "\n",
        "  start_screen(stdscr)\n",
        "  while True:\n",
        "    wpm_test(stdscr)\n",
        "    stdscr.addstr(2,0,\"you completed the text! press any key to continue\")\n",
        "    key = stdscr.getkey()\n",
        "\n",
        "    if ord(key) == 27:\n",
        "      break\n",
        "\n",
        "wrapper(main)"
      ],
      "metadata": {
        "id": "-p4YbBAyTsOy"
      },
      "execution_count": 2,
      "outputs": []
    },
    {
      "cell_type": "code",
      "source": [],
      "metadata": {
        "id": "GCzDARXyuR_J"
      },
      "execution_count": null,
      "outputs": []
    }
  ]
}