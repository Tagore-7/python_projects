{
  "nbformat": 4,
  "nbformat_minor": 0,
  "metadata": {
    "colab": {
      "provenance": [],
      "authorship_tag": "ABX9TyPt4wHzJzqzrYu5buq5OO0h",
      "include_colab_link": true
    },
    "kernelspec": {
      "name": "python3",
      "display_name": "Python 3"
    },
    "language_info": {
      "name": "python"
    }
  },
  "cells": [
    {
      "cell_type": "markdown",
      "metadata": {
        "id": "view-in-github",
        "colab_type": "text"
      },
      "source": [
        "<a href=\"https://colab.research.google.com/github/Tagore-7/python_projects/blob/main/math_quiz.ipynb\" target=\"_parent\"><img src=\"https://colab.research.google.com/assets/colab-badge.svg\" alt=\"Open In Colab\"/></a>"
      ]
    },
    {
      "cell_type": "code",
      "source": [
        "import random\n",
        "import time\n",
        "\n",
        "operators = [\"+\",\"-\",\"*\"]\n",
        "\n",
        "MIN_OPERAND = 3\n",
        "MAX_OPERAND = 12\n",
        "TOTAL_PROBLEMS = 5\n",
        "\n",
        "def generate_problem():\n",
        "  left = random.randint(MIN_OPERAND, MAX_OPERAND)\n",
        "  right = random.randint(MIN_OPERAND, MAX_OPERAND)\n",
        "  operator = random.choice(operators)\n",
        "  expr = str(left) + \" \" + operator + \" \"  + str(right)\n",
        "  # print(expr)\n",
        "  answer = eval(expr)\n",
        "  return expr, answer\n",
        "\n",
        "wrong = 0\n",
        "correct = 0\n",
        "attempts = 0\n",
        "input(\"press enter to start!\")\n",
        "print(\"--------------------\")\n",
        "\n",
        "start_time = time.time()\n",
        "for i in range(TOTAL_PROBLEMS):\n",
        "  expr, answer = generate_problem()\n",
        "  while True:\n",
        "    guess = input(f\"Problem #{i+1}: {expr} = \")\n",
        "    attempts += 1\n",
        "    if guess == str(answer):\n",
        "      correct += 1\n",
        "      break\n",
        "    wrong += 1\n",
        "\n",
        "end_time = time.time()\n",
        "total_time = end_time - start_time\n",
        "acc = (correct / attempts) * 100\n",
        "print(\"-------------------!\")\n",
        "print(f\"Nice work you have completed the probelms is {total_time:.3f} seconds!\")\n",
        "print(f\"/n you have {acc} accuracy\")\n",
        "\n"
      ],
      "metadata": {
        "id": "wVCBIwqTa50W",
        "colab": {
          "base_uri": "https://localhost:8080/"
        },
        "outputId": "c437bfbd-82a1-4ae7-ea97-f565424b9582"
      },
      "execution_count": 6,
      "outputs": [
        {
          "output_type": "stream",
          "name": "stdout",
          "text": [
            "press enter to start!\n",
            "--------------------\n",
            "Problem #1: 10 * 12 = 120\n",
            "Problem #2: 11 + 4 = 15\n",
            "Problem #3: 9 + 7 = 16\n",
            "Problem #4: 3 * 8 = 24\n",
            "Problem #5: 4 * 5 = 19\n",
            "Problem #5: 4 * 5 = 20\n",
            "-------------------!\n",
            "Nice work you have completed the probelms is 17.530 seconds!\n",
            "/n you have 83.33333333333334 accuracy\n"
          ]
        }
      ]
    },
    {
      "cell_type": "code",
      "source": [
        "\n",
        "\n"
      ],
      "metadata": {
        "id": "-p4YbBAyTsOy"
      },
      "execution_count": null,
      "outputs": []
    },
    {
      "cell_type": "code",
      "source": [],
      "metadata": {
        "id": "GCzDARXyuR_J"
      },
      "execution_count": null,
      "outputs": []
    }
  ]
}